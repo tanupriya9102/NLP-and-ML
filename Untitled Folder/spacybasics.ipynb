{
 "cells": [
  {
   "cell_type": "code",
   "execution_count": 3,
   "id": "73604b2b",
   "metadata": {},
   "outputs": [],
   "source": [
    "import spacy"
   ]
  },
  {
   "cell_type": "code",
   "execution_count": 5,
   "id": "b1605621",
   "metadata": {},
   "outputs": [],
   "source": [
    "nlp=spacy.load('en_core_web_sm')"
   ]
  },
  {
   "cell_type": "code",
   "execution_count": 6,
   "id": "d697868d",
   "metadata": {},
   "outputs": [],
   "source": [
    "doc=nlp(u'Tesla is looking at buying U.S. startup for $6 million')"
   ]
  },
  {
   "cell_type": "code",
   "execution_count": 9,
   "id": "6417b255",
   "metadata": {},
   "outputs": [
    {
     "name": "stdout",
     "output_type": "stream",
     "text": [
      "Tesla PROPN\n",
      "is AUX\n",
      "looking VERB\n",
      "at ADP\n",
      "buying VERB\n",
      "U.S. PROPN\n",
      "startup NOUN\n",
      "for ADP\n",
      "$ SYM\n",
      "6 NUM\n",
      "million NUM\n"
     ]
    }
   ],
   "source": [
    "for token in doc:\n",
    "    print(token,token.pos_)"
   ]
  },
  {
   "cell_type": "code",
   "execution_count": 10,
   "id": "07017db5",
   "metadata": {},
   "outputs": [
    {
     "name": "stdout",
     "output_type": "stream",
     "text": [
      "looking VERB\n",
      "buying VERB\n"
     ]
    }
   ],
   "source": [
    "for token in doc:\n",
    "    if token.pos_==\"VERB\":\n",
    "        print(token,token.pos_)\n",
    "        \n",
    "   "
   ]
  },
  {
   "cell_type": "code",
   "execution_count": 13,
   "id": "b4801e78",
   "metadata": {},
   "outputs": [
    {
     "name": "stdout",
     "output_type": "stream",
     "text": [
      "classify VERB\n",
      "these DET\n",
      "animals NOUN\n",
      "by ADP\n",
      "their PRON\n",
      "characteristics NOUN\n"
     ]
    }
   ],
   "source": [
    "ques=nlp(u\"classify these animals by their characteristics\")\n",
    "for token in ques:\n",
    "    print(token,token.pos_)"
   ]
  },
  {
   "cell_type": "code",
   "execution_count": 15,
   "id": "f8cf4289",
   "metadata": {},
   "outputs": [
    {
     "name": "stdout",
     "output_type": "stream",
     "text": [
      "Modify VERB\n",
      "and CCONJ\n",
      "rewrite VERB\n",
      "the DET\n",
      "given VERB\n",
      "poen NOUN\n",
      "with ADP\n",
      "a DET\n",
      "different ADJ\n",
      "perspective NOUN\n"
     ]
    }
   ],
   "source": [
    "ques=nlp(u\"Modify and rewrite the given poen with a different perspective\")\n",
    "for token in ques:\n",
    "    print(token,token.pos_)"
   ]
  },
  {
   "cell_type": "code",
   "execution_count": 18,
   "id": "e31fc23f",
   "metadata": {},
   "outputs": [
    {
     "name": "stdout",
     "output_type": "stream",
     "text": [
      "illustrate illustrate\n",
      ", ,\n",
      "istantiate istantiate\n",
      "and and\n",
      "demonstrate demonstrate\n",
      "are be\n",
      "synonyms synonym\n"
     ]
    }
   ],
   "source": [
    "words=nlp(u\"illustrate,istantiate and demonstrate are synonyms\")\n",
    "for token in words:\n",
    "    print(token,token.lemma_)"
   ]
  },
  {
   "cell_type": "code",
   "execution_count": null,
   "id": "6d58c5d4",
   "metadata": {},
   "outputs": [],
   "source": []
  }
 ],
 "metadata": {
  "kernelspec": {
   "display_name": "Python 3 (ipykernel)",
   "language": "python",
   "name": "python3"
  },
  "language_info": {
   "codemirror_mode": {
    "name": "ipython",
    "version": 3
   },
   "file_extension": ".py",
   "mimetype": "text/x-python",
   "name": "python",
   "nbconvert_exporter": "python",
   "pygments_lexer": "ipython3",
   "version": "3.10.5"
  }
 },
 "nbformat": 4,
 "nbformat_minor": 5
}
