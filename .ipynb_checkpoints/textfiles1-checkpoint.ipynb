{
 "cells": [
  {
   "cell_type": "code",
   "execution_count": 2,
   "id": "ffb5440e",
   "metadata": {},
   "outputs": [],
   "source": [
    "person=\"tanu\""
   ]
  },
  {
   "cell_type": "code",
   "execution_count": 3,
   "id": "c55f6477",
   "metadata": {},
   "outputs": [
    {
     "name": "stdout",
     "output_type": "stream",
     "text": [
      "my name is: tanu\n"
     ]
    }
   ],
   "source": [
    "# old way\n",
    "print(\"my name is: {}\".format(person))"
   ]
  },
  {
   "cell_type": "code",
   "execution_count": 5,
   "id": "8034596f",
   "metadata": {},
   "outputs": [
    {
     "name": "stdout",
     "output_type": "stream",
     "text": [
      "my name is: tanu\n"
     ]
    }
   ],
   "source": [
    "# new way\n",
    "print(f\"my name is: {person}\")"
   ]
  },
  {
   "cell_type": "code",
   "execution_count": 7,
   "id": "9a259825",
   "metadata": {},
   "outputs": [
    {
     "name": "stdout",
     "output_type": "stream",
     "text": [
      "my number is 123\n"
     ]
    }
   ],
   "source": [
    "dic={'a':123,'b':456,'c':789}\n",
    "print(f\"my number is {dic['a']}\")"
   ]
  },
  {
   "cell_type": "code",
   "execution_count": 16,
   "id": "e1d0b27e",
   "metadata": {},
   "outputs": [],
   "source": [
    "library=[('Author','Topic','Pages'),('a','a1',100),('b','b1',101),('c','c1',102),('d','d1',103)]"
   ]
  },
  {
   "cell_type": "code",
   "execution_count": 17,
   "id": "8804f544",
   "metadata": {},
   "outputs": [
    {
     "data": {
      "text/plain": [
       "[('Author', 'Topic', 'Pages'),\n",
       " ('a', 'a1', 100),\n",
       " ('b', 'b1', 101),\n",
       " ('c', 'c1', 102),\n",
       " ('d', 'd1', 103)]"
      ]
     },
     "execution_count": 17,
     "metadata": {},
     "output_type": "execute_result"
    }
   ],
   "source": [
    "library"
   ]
  },
  {
   "cell_type": "code",
   "execution_count": 18,
   "id": "87564693",
   "metadata": {
    "scrolled": true
   },
   "outputs": [
    {
     "name": "stdout",
     "output_type": "stream",
     "text": [
      "Author is Author\n",
      "Author is a\n",
      "Author is b\n",
      "Author is c\n",
      "Author is d\n"
     ]
    }
   ],
   "source": [
    "# only authors\n",
    "for book in library:\n",
    "    print(f\"Author is {book[0]}\")"
   ]
  },
  {
   "cell_type": "code",
   "execution_count": 21,
   "id": "6c43bda1",
   "metadata": {},
   "outputs": [
    {
     "name": "stdout",
     "output_type": "stream",
     "text": [
      "Author Topic Pages\n",
      "a a1 100\n",
      "b b1 101\n",
      "c c1 102\n",
      "d d1 103\n"
     ]
    }
   ],
   "source": [
    "for author,topic,pages in library:\n",
    "    print(f\"{author} {topic} {pages}\")"
   ]
  },
  {
   "cell_type": "code",
   "execution_count": null,
   "id": "9322f790",
   "metadata": {},
   "outputs": [],
   "source": []
  }
 ],
 "metadata": {
  "kernelspec": {
   "display_name": "Python 3 (ipykernel)",
   "language": "python",
   "name": "python3"
  },
  "language_info": {
   "codemirror_mode": {
    "name": "ipython",
    "version": 3
   },
   "file_extension": ".py",
   "mimetype": "text/x-python",
   "name": "python",
   "nbconvert_exporter": "python",
   "pygments_lexer": "ipython3",
   "version": "3.10.5"
  }
 },
 "nbformat": 4,
 "nbformat_minor": 5
}
