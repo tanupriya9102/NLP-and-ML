{
 "cells": [
  {
   "cell_type": "code",
   "execution_count": 1,
   "id": "ffb5440e",
   "metadata": {},
   "outputs": [],
   "source": [
    "person=\"tanu\""
   ]
  },
  {
   "cell_type": "code",
   "execution_count": 2,
   "id": "c55f6477",
   "metadata": {},
   "outputs": [
    {
     "name": "stdout",
     "output_type": "stream",
     "text": [
      "my name is: tanu\n"
     ]
    }
   ],
   "source": [
    "# old way\n",
    "print(\"my name is: {}\".format(person))"
   ]
  },
  {
   "cell_type": "code",
   "execution_count": 3,
   "id": "8034596f",
   "metadata": {},
   "outputs": [
    {
     "name": "stdout",
     "output_type": "stream",
     "text": [
      "my name is: tanu\n"
     ]
    }
   ],
   "source": [
    "# new way\n",
    "print(f\"my name is: {person}\")"
   ]
  },
  {
   "cell_type": "code",
   "execution_count": 4,
   "id": "9a259825",
   "metadata": {},
   "outputs": [
    {
     "name": "stdout",
     "output_type": "stream",
     "text": [
      "my number is 123\n"
     ]
    }
   ],
   "source": [
    "dic={'a':123,'b':456,'c':789}\n",
    "print(f\"my number is {dic['a']}\")"
   ]
  },
  {
   "cell_type": "code",
   "execution_count": 5,
   "id": "e1d0b27e",
   "metadata": {},
   "outputs": [],
   "source": [
    "library=[('Author','Topic','Pages'),('a','a1',100),('b','b1',101),('c','c1',102),('d','d1',103)]"
   ]
  },
  {
   "cell_type": "code",
   "execution_count": 6,
   "id": "8804f544",
   "metadata": {},
   "outputs": [
    {
     "data": {
      "text/plain": [
       "[('Author', 'Topic', 'Pages'),\n",
       " ('a', 'a1', 100),\n",
       " ('b', 'b1', 101),\n",
       " ('c', 'c1', 102),\n",
       " ('d', 'd1', 103)]"
      ]
     },
     "execution_count": 6,
     "metadata": {},
     "output_type": "execute_result"
    }
   ],
   "source": [
    "library"
   ]
  },
  {
   "cell_type": "code",
   "execution_count": 7,
   "id": "87564693",
   "metadata": {
    "scrolled": true
   },
   "outputs": [
    {
     "name": "stdout",
     "output_type": "stream",
     "text": [
      "Author is Author\n",
      "Author is a\n",
      "Author is b\n",
      "Author is c\n",
      "Author is d\n"
     ]
    }
   ],
   "source": [
    "# only authors\n",
    "for book in library:\n",
    "    print(f\"Author is {book[0]}\")"
   ]
  },
  {
   "cell_type": "code",
   "execution_count": 11,
   "id": "6c43bda1",
   "metadata": {},
   "outputs": [
    {
     "name": "stdout",
     "output_type": "stream",
     "text": [
      "Author     Topic                          .....Pages\n",
      "a          a1                             .......100\n",
      "b          b1                             .......101\n",
      "c          c1                             .......102\n",
      "d          d1                             .......103\n"
     ]
    }
   ],
   "source": [
    "for author,topic,pages in library:\n",
    "    print(f\"{author:10} {topic:30} {pages:.>10}\")"
   ]
  },
  {
   "cell_type": "code",
   "execution_count": 12,
   "id": "9322f790",
   "metadata": {},
   "outputs": [],
   "source": [
    "from datetime import datetime"
   ]
  },
  {
   "cell_type": "code",
   "execution_count": 17,
   "id": "5ccb76d7",
   "metadata": {},
   "outputs": [
    {
     "name": "stdout",
     "output_type": "stream",
     "text": [
      "2020-10-10 00:00:00\n"
     ]
    }
   ],
   "source": [
    "today=datetime(year=2020,month=10,day=10)\n",
    "print(today)"
   ]
  },
  {
   "cell_type": "code",
   "execution_count": 23,
   "id": "d467b898",
   "metadata": {},
   "outputs": [
    {
     "name": "stdout",
     "output_type": "stream",
     "text": [
      "October\n",
      "10\n",
      "20\n",
      "October 10, 20\n",
      "10 October, 20\n"
     ]
    }
   ],
   "source": [
    "#strftime.org\n",
    "print(f\"{today:%B}\")\n",
    "print(f\"{today:%d}\")\n",
    "print(f\"{today:%y}\")\n",
    "print(f\"{today:%B %d, %y}\")\n",
    "print(f\"{today:%d %B, %y}\")"
   ]
  },
  {
   "cell_type": "code",
   "execution_count": 24,
   "id": "433942cc",
   "metadata": {},
   "outputs": [
    {
     "name": "stdout",
     "output_type": "stream",
     "text": [
      "t\n",
      "h\n",
      "i\n",
      "s\n",
      " \n",
      "i\n",
      "s\n",
      " \n",
      "t\n",
      "a\n",
      "n\n",
      "u\n",
      "p\n",
      "r\n",
      "i\n",
      "y\n",
      "a\n",
      " \n",
      "u\n",
      "s\n",
      "i\n",
      "n\n",
      "g\n",
      " \n",
      "$\n",
      "6\n",
      " \n",
      "i\n",
      "n\n",
      " \n",
      "U\n",
      ".\n",
      "S\n",
      ".\n"
     ]
    }
   ],
   "source": [
    "s=\"this is tanupriya using $6 in U.S.\"\n",
    "for i in s:\n",
    "    print(i)"
   ]
  },
  {
   "cell_type": "code",
   "execution_count": null,
   "id": "130aba72",
   "metadata": {},
   "outputs": [],
   "source": []
  }
 ],
 "metadata": {
  "kernelspec": {
   "display_name": "Python 3",
   "language": "python",
   "name": "python3"
  },
  "language_info": {
   "codemirror_mode": {
    "name": "ipython",
    "version": 3
   },
   "file_extension": ".py",
   "mimetype": "text/x-python",
   "name": "python",
   "nbconvert_exporter": "python",
   "pygments_lexer": "ipython3",
   "version": "3.8.8"
  }
 },
 "nbformat": 4,
 "nbformat_minor": 5
}
